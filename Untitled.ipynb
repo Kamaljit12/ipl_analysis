{
 "cells": [
  {
   "cell_type": "code",
   "execution_count": 92,
   "id": "50c241fb-fd88-44c7-a7f9-902cd5ea7962",
   "metadata": {},
   "outputs": [],
   "source": [
    "import pandas as pd\n",
    "import numpy as np\n",
    "import seaborn as sns\n",
    "import matplotlib.pyplot as plt"
   ]
  },
  {
   "cell_type": "code",
   "execution_count": 146,
   "id": "91badf9e-9ce9-4332-a287-46889a7d300b",
   "metadata": {},
   "outputs": [],
   "source": [
    "dim_match = pd.read_csv(\"dim_match_summary.csv\")\n",
    "dim_players = pd.read_csv(\"dim_players.csv\")\n",
    "fact_bat = pd.read_csv(\"fact_bating_summary.csv\")\n",
    "fact_boll = pd.read_csv(\"fact_bowling_summary.csv\")"
   ]
  },
  {
   "cell_type": "code",
   "execution_count": 148,
   "id": "a4007a79-8777-45c1-9dcf-cb2499ba862e",
   "metadata": {},
   "outputs": [
    {
     "data": {
      "text/html": [
       "<div>\n",
       "<style scoped>\n",
       "    .dataframe tbody tr th:only-of-type {\n",
       "        vertical-align: middle;\n",
       "    }\n",
       "\n",
       "    .dataframe tbody tr th {\n",
       "        vertical-align: top;\n",
       "    }\n",
       "\n",
       "    .dataframe thead th {\n",
       "        text-align: right;\n",
       "    }\n",
       "</style>\n",
       "<table border=\"1\" class=\"dataframe\">\n",
       "  <thead>\n",
       "    <tr style=\"text-align: right;\">\n",
       "      <th></th>\n",
       "      <th>team1</th>\n",
       "      <th>team2</th>\n",
       "      <th>winner</th>\n",
       "      <th>margin</th>\n",
       "      <th>matchDate</th>\n",
       "      <th>match_id</th>\n",
       "    </tr>\n",
       "  </thead>\n",
       "  <tbody>\n",
       "    <tr>\n",
       "      <th>0</th>\n",
       "      <td>Super Kings</td>\n",
       "      <td>KKR</td>\n",
       "      <td>Super Kings</td>\n",
       "      <td>27 runs</td>\n",
       "      <td>Oct 15, 2021</td>\n",
       "      <td>T203817</td>\n",
       "    </tr>\n",
       "    <tr>\n",
       "      <th>1</th>\n",
       "      <td>Capitals</td>\n",
       "      <td>KKR</td>\n",
       "      <td>KKR</td>\n",
       "      <td>3 wickets</td>\n",
       "      <td>Oct 13, 2021</td>\n",
       "      <td>T206442</td>\n",
       "    </tr>\n",
       "    <tr>\n",
       "      <th>2</th>\n",
       "      <td>RCB</td>\n",
       "      <td>KKR</td>\n",
       "      <td>KKR</td>\n",
       "      <td>4 wickets</td>\n",
       "      <td>Oct 11, 2021</td>\n",
       "      <td>T208597</td>\n",
       "    </tr>\n",
       "    <tr>\n",
       "      <th>3</th>\n",
       "      <td>Capitals</td>\n",
       "      <td>Super Kings</td>\n",
       "      <td>Super Kings</td>\n",
       "      <td>4 wickets</td>\n",
       "      <td>Oct 10, 2021</td>\n",
       "      <td>T201819</td>\n",
       "    </tr>\n",
       "    <tr>\n",
       "      <th>4</th>\n",
       "      <td>Capitals</td>\n",
       "      <td>RCB</td>\n",
       "      <td>RCB</td>\n",
       "      <td>7 wickets</td>\n",
       "      <td>Oct 8, 2021</td>\n",
       "      <td>T205942</td>\n",
       "    </tr>\n",
       "  </tbody>\n",
       "</table>\n",
       "</div>"
      ],
      "text/plain": [
       "         team1        team2       winner     margin     matchDate match_id\n",
       "0  Super Kings          KKR  Super Kings    27 runs  Oct 15, 2021  T203817\n",
       "1     Capitals          KKR          KKR  3 wickets  Oct 13, 2021  T206442\n",
       "2          RCB          KKR          KKR  4 wickets  Oct 11, 2021  T208597\n",
       "3     Capitals  Super Kings  Super Kings  4 wickets  Oct 10, 2021  T201819\n",
       "4     Capitals          RCB          RCB  7 wickets   Oct 8, 2021  T205942"
      ]
     },
     "execution_count": 148,
     "metadata": {},
     "output_type": "execute_result"
    }
   ],
   "source": [
    "dim_match.head()"
   ]
  },
  {
   "cell_type": "code",
   "execution_count": 150,
   "id": "51592b9f-915d-4168-b410-25fd05b69864",
   "metadata": {},
   "outputs": [],
   "source": [
    "dim_players.head()\n",
    "\n",
    "## raname name to batsman name\n",
    "dim_players.rename(columns={\"name\": \"batsmanName\"}, inplace=True)"
   ]
  },
  {
   "cell_type": "code",
   "execution_count": 152,
   "id": "a6576ded-e05e-4701-aa50-8e93482f2ba3",
   "metadata": {},
   "outputs": [
    {
     "data": {
      "text/html": [
       "<div>\n",
       "<style scoped>\n",
       "    .dataframe tbody tr th:only-of-type {\n",
       "        vertical-align: middle;\n",
       "    }\n",
       "\n",
       "    .dataframe tbody tr th {\n",
       "        vertical-align: top;\n",
       "    }\n",
       "\n",
       "    .dataframe thead th {\n",
       "        text-align: right;\n",
       "    }\n",
       "</style>\n",
       "<table border=\"1\" class=\"dataframe\">\n",
       "  <thead>\n",
       "    <tr style=\"text-align: right;\">\n",
       "      <th></th>\n",
       "      <th>batsmanName</th>\n",
       "      <th>team</th>\n",
       "      <th>battingStyle</th>\n",
       "      <th>bowlingStyle</th>\n",
       "      <th>playingRole</th>\n",
       "    </tr>\n",
       "  </thead>\n",
       "  <tbody>\n",
       "    <tr>\n",
       "      <th>0</th>\n",
       "      <td>RuturajGaikwad</td>\n",
       "      <td>Super Kings</td>\n",
       "      <td>Right hand Bat</td>\n",
       "      <td>Right arm Offbreak</td>\n",
       "      <td>Batter</td>\n",
       "    </tr>\n",
       "    <tr>\n",
       "      <th>1</th>\n",
       "      <td>FafduPlessis</td>\n",
       "      <td>Super Kings</td>\n",
       "      <td>Right hand Bat</td>\n",
       "      <td>Legbreak</td>\n",
       "      <td>Middle order Batter</td>\n",
       "    </tr>\n",
       "    <tr>\n",
       "      <th>2</th>\n",
       "      <td>RobinUthappa</td>\n",
       "      <td>Super Kings</td>\n",
       "      <td>Right hand Bat</td>\n",
       "      <td>Right arm Medium</td>\n",
       "      <td>Batter</td>\n",
       "    </tr>\n",
       "    <tr>\n",
       "      <th>3</th>\n",
       "      <td>MoeenAli</td>\n",
       "      <td>Super Kings</td>\n",
       "      <td>Left hand Bat</td>\n",
       "      <td>Right arm Offbreak</td>\n",
       "      <td>Batting Allrounder</td>\n",
       "    </tr>\n",
       "    <tr>\n",
       "      <th>4</th>\n",
       "      <td>ShubmanGill</td>\n",
       "      <td>KKR</td>\n",
       "      <td>Right hand Bat</td>\n",
       "      <td>Right arm Offbreak</td>\n",
       "      <td>Opening Batter</td>\n",
       "    </tr>\n",
       "  </tbody>\n",
       "</table>\n",
       "</div>"
      ],
      "text/plain": [
       "      batsmanName         team    battingStyle        bowlingStyle  \\\n",
       "0  RuturajGaikwad  Super Kings  Right hand Bat  Right arm Offbreak   \n",
       "1    FafduPlessis  Super Kings  Right hand Bat            Legbreak   \n",
       "2    RobinUthappa  Super Kings  Right hand Bat    Right arm Medium   \n",
       "3        MoeenAli  Super Kings   Left hand Bat  Right arm Offbreak   \n",
       "4     ShubmanGill          KKR  Right hand Bat  Right arm Offbreak   \n",
       "\n",
       "           playingRole  \n",
       "0               Batter  \n",
       "1  Middle order Batter  \n",
       "2               Batter  \n",
       "3   Batting Allrounder  \n",
       "4       Opening Batter  "
      ]
     },
     "execution_count": 152,
     "metadata": {},
     "output_type": "execute_result"
    }
   ],
   "source": [
    "dim_players.head()"
   ]
  },
  {
   "cell_type": "code",
   "execution_count": 154,
   "id": "812fcf8a-ebcb-4f53-9cb2-b46730bb3b70",
   "metadata": {},
   "outputs": [
    {
     "data": {
      "text/plain": [
       "((206, 6), (292, 5))"
      ]
     },
     "execution_count": 154,
     "metadata": {},
     "output_type": "execute_result"
    }
   ],
   "source": [
    "dim_match.shape, dim_players.shape"
   ]
  },
  {
   "cell_type": "code",
   "execution_count": 156,
   "id": "ce991d5b-801a-4327-93ff-583a7c1999df",
   "metadata": {},
   "outputs": [
    {
     "data": {
      "text/html": [
       "<div>\n",
       "<style scoped>\n",
       "    .dataframe tbody tr th:only-of-type {\n",
       "        vertical-align: middle;\n",
       "    }\n",
       "\n",
       "    .dataframe tbody tr th {\n",
       "        vertical-align: top;\n",
       "    }\n",
       "\n",
       "    .dataframe thead th {\n",
       "        text-align: right;\n",
       "    }\n",
       "</style>\n",
       "<table border=\"1\" class=\"dataframe\">\n",
       "  <thead>\n",
       "    <tr style=\"text-align: right;\">\n",
       "      <th></th>\n",
       "      <th>match_id</th>\n",
       "      <th>match</th>\n",
       "      <th>teamInnings</th>\n",
       "      <th>battingPos</th>\n",
       "      <th>batsmanName</th>\n",
       "      <th>out/not_out</th>\n",
       "      <th>runs</th>\n",
       "      <th>balls</th>\n",
       "      <th>4s</th>\n",
       "      <th>6s</th>\n",
       "      <th>SR</th>\n",
       "    </tr>\n",
       "  </thead>\n",
       "  <tbody>\n",
       "    <tr>\n",
       "      <th>0</th>\n",
       "      <td>T203817</td>\n",
       "      <td>Super Kings Vs KKR</td>\n",
       "      <td>Super Kings</td>\n",
       "      <td>1</td>\n",
       "      <td>RuturajGaikwad</td>\n",
       "      <td>out</td>\n",
       "      <td>32</td>\n",
       "      <td>27</td>\n",
       "      <td>3</td>\n",
       "      <td>1</td>\n",
       "      <td>118.51</td>\n",
       "    </tr>\n",
       "    <tr>\n",
       "      <th>1</th>\n",
       "      <td>T203817</td>\n",
       "      <td>Super Kings Vs KKR</td>\n",
       "      <td>Super Kings</td>\n",
       "      <td>2</td>\n",
       "      <td>FafduPlessis</td>\n",
       "      <td>out</td>\n",
       "      <td>86</td>\n",
       "      <td>59</td>\n",
       "      <td>7</td>\n",
       "      <td>3</td>\n",
       "      <td>145.76</td>\n",
       "    </tr>\n",
       "    <tr>\n",
       "      <th>2</th>\n",
       "      <td>T203817</td>\n",
       "      <td>Super Kings Vs KKR</td>\n",
       "      <td>Super Kings</td>\n",
       "      <td>3</td>\n",
       "      <td>RobinUthappa</td>\n",
       "      <td>out</td>\n",
       "      <td>31</td>\n",
       "      <td>15</td>\n",
       "      <td>0</td>\n",
       "      <td>3</td>\n",
       "      <td>206.66</td>\n",
       "    </tr>\n",
       "    <tr>\n",
       "      <th>3</th>\n",
       "      <td>T203817</td>\n",
       "      <td>Super Kings Vs KKR</td>\n",
       "      <td>Super Kings</td>\n",
       "      <td>4</td>\n",
       "      <td>MoeenAli</td>\n",
       "      <td>not_out</td>\n",
       "      <td>37</td>\n",
       "      <td>20</td>\n",
       "      <td>2</td>\n",
       "      <td>3</td>\n",
       "      <td>185.00</td>\n",
       "    </tr>\n",
       "    <tr>\n",
       "      <th>4</th>\n",
       "      <td>T203817</td>\n",
       "      <td>Super Kings Vs KKR</td>\n",
       "      <td>KKR</td>\n",
       "      <td>1</td>\n",
       "      <td>ShubmanGill</td>\n",
       "      <td>out</td>\n",
       "      <td>51</td>\n",
       "      <td>43</td>\n",
       "      <td>6</td>\n",
       "      <td>0</td>\n",
       "      <td>118.60</td>\n",
       "    </tr>\n",
       "  </tbody>\n",
       "</table>\n",
       "</div>"
      ],
      "text/plain": [
       "  match_id               match  teamInnings  battingPos     batsmanName  \\\n",
       "0  T203817  Super Kings Vs KKR  Super Kings           1  RuturajGaikwad   \n",
       "1  T203817  Super Kings Vs KKR  Super Kings           2    FafduPlessis   \n",
       "2  T203817  Super Kings Vs KKR  Super Kings           3    RobinUthappa   \n",
       "3  T203817  Super Kings Vs KKR  Super Kings           4        MoeenAli   \n",
       "4  T203817  Super Kings Vs KKR          KKR           1     ShubmanGill   \n",
       "\n",
       "  out/not_out  runs  balls  4s  6s      SR  \n",
       "0         out    32     27   3   1  118.51  \n",
       "1         out    86     59   7   3  145.76  \n",
       "2         out    31     15   0   3  206.66  \n",
       "3     not_out    37     20   2   3  185.00  \n",
       "4         out    51     43   6   0  118.60  "
      ]
     },
     "execution_count": 156,
     "metadata": {},
     "output_type": "execute_result"
    }
   ],
   "source": [
    "fact_bat.head()"
   ]
  },
  {
   "cell_type": "code",
   "execution_count": 158,
   "id": "0ebc3e1c-4e92-48dd-8708-9f6f6610dc22",
   "metadata": {},
   "outputs": [
    {
     "data": {
      "text/html": [
       "<div>\n",
       "<style scoped>\n",
       "    .dataframe tbody tr th:only-of-type {\n",
       "        vertical-align: middle;\n",
       "    }\n",
       "\n",
       "    .dataframe tbody tr th {\n",
       "        vertical-align: top;\n",
       "    }\n",
       "\n",
       "    .dataframe thead th {\n",
       "        text-align: right;\n",
       "    }\n",
       "</style>\n",
       "<table border=\"1\" class=\"dataframe\">\n",
       "  <thead>\n",
       "    <tr style=\"text-align: right;\">\n",
       "      <th></th>\n",
       "      <th>match_id</th>\n",
       "      <th>match</th>\n",
       "      <th>bowlingTeam</th>\n",
       "      <th>bowlerName</th>\n",
       "      <th>overs</th>\n",
       "      <th>maiden</th>\n",
       "      <th>runs</th>\n",
       "      <th>wickets</th>\n",
       "      <th>economy</th>\n",
       "      <th>0s</th>\n",
       "      <th>4s</th>\n",
       "      <th>6s</th>\n",
       "      <th>wides</th>\n",
       "      <th>noBalls</th>\n",
       "    </tr>\n",
       "  </thead>\n",
       "  <tbody>\n",
       "    <tr>\n",
       "      <th>0</th>\n",
       "      <td>T203817</td>\n",
       "      <td>Super Kings Vs KKR</td>\n",
       "      <td>KKR</td>\n",
       "      <td>ShakibAlHasan</td>\n",
       "      <td>3.0</td>\n",
       "      <td>0</td>\n",
       "      <td>33</td>\n",
       "      <td>0</td>\n",
       "      <td>11.0</td>\n",
       "      <td>6</td>\n",
       "      <td>2</td>\n",
       "      <td>3</td>\n",
       "      <td>0</td>\n",
       "      <td>0</td>\n",
       "    </tr>\n",
       "    <tr>\n",
       "      <th>1</th>\n",
       "      <td>T203817</td>\n",
       "      <td>Super Kings Vs KKR</td>\n",
       "      <td>KKR</td>\n",
       "      <td>ShivamMavi</td>\n",
       "      <td>4.0</td>\n",
       "      <td>0</td>\n",
       "      <td>32</td>\n",
       "      <td>1</td>\n",
       "      <td>8.0</td>\n",
       "      <td>8</td>\n",
       "      <td>1</td>\n",
       "      <td>2</td>\n",
       "      <td>0</td>\n",
       "      <td>0</td>\n",
       "    </tr>\n",
       "    <tr>\n",
       "      <th>2</th>\n",
       "      <td>T203817</td>\n",
       "      <td>Super Kings Vs KKR</td>\n",
       "      <td>KKR</td>\n",
       "      <td>LockieFerguson</td>\n",
       "      <td>4.0</td>\n",
       "      <td>0</td>\n",
       "      <td>56</td>\n",
       "      <td>0</td>\n",
       "      <td>14.0</td>\n",
       "      <td>4</td>\n",
       "      <td>7</td>\n",
       "      <td>2</td>\n",
       "      <td>2</td>\n",
       "      <td>0</td>\n",
       "    </tr>\n",
       "    <tr>\n",
       "      <th>3</th>\n",
       "      <td>T203817</td>\n",
       "      <td>Super Kings Vs KKR</td>\n",
       "      <td>KKR</td>\n",
       "      <td>VarunChakravarthy</td>\n",
       "      <td>4.0</td>\n",
       "      <td>0</td>\n",
       "      <td>38</td>\n",
       "      <td>0</td>\n",
       "      <td>9.5</td>\n",
       "      <td>5</td>\n",
       "      <td>2</td>\n",
       "      <td>2</td>\n",
       "      <td>0</td>\n",
       "      <td>1</td>\n",
       "    </tr>\n",
       "    <tr>\n",
       "      <th>4</th>\n",
       "      <td>T203817</td>\n",
       "      <td>Super Kings Vs KKR</td>\n",
       "      <td>KKR</td>\n",
       "      <td>SunilNarine</td>\n",
       "      <td>4.0</td>\n",
       "      <td>0</td>\n",
       "      <td>26</td>\n",
       "      <td>2</td>\n",
       "      <td>6.5</td>\n",
       "      <td>6</td>\n",
       "      <td>0</td>\n",
       "      <td>1</td>\n",
       "      <td>1</td>\n",
       "      <td>0</td>\n",
       "    </tr>\n",
       "  </tbody>\n",
       "</table>\n",
       "</div>"
      ],
      "text/plain": [
       "  match_id               match bowlingTeam         bowlerName  overs  maiden  \\\n",
       "0  T203817  Super Kings Vs KKR         KKR      ShakibAlHasan    3.0       0   \n",
       "1  T203817  Super Kings Vs KKR         KKR         ShivamMavi    4.0       0   \n",
       "2  T203817  Super Kings Vs KKR         KKR     LockieFerguson    4.0       0   \n",
       "3  T203817  Super Kings Vs KKR         KKR  VarunChakravarthy    4.0       0   \n",
       "4  T203817  Super Kings Vs KKR         KKR        SunilNarine    4.0       0   \n",
       "\n",
       "   runs  wickets  economy  0s  4s  6s  wides  noBalls  \n",
       "0    33        0     11.0   6   2   3      0        0  \n",
       "1    32        1      8.0   8   1   2      0        0  \n",
       "2    56        0     14.0   4   7   2      2        0  \n",
       "3    38        0      9.5   5   2   2      0        1  \n",
       "4    26        2      6.5   6   0   1      1        0  "
      ]
     },
     "execution_count": 158,
     "metadata": {},
     "output_type": "execute_result"
    }
   ],
   "source": [
    "fact_boll.head()"
   ]
  },
  {
   "cell_type": "code",
   "execution_count": 160,
   "id": "184776fc-4c84-40d0-9a11-f103b5e6c3e9",
   "metadata": {},
   "outputs": [
    {
     "data": {
      "text/plain": [
       "match_id       0\n",
       "match          0\n",
       "bowlingTeam    0\n",
       "bowlerName     0\n",
       "overs          0\n",
       "maiden         0\n",
       "runs           0\n",
       "wickets        0\n",
       "economy        0\n",
       "0s             0\n",
       "4s             0\n",
       "6s             0\n",
       "wides          0\n",
       "noBalls        0\n",
       "dtype: int64"
      ]
     },
     "execution_count": 160,
     "metadata": {},
     "output_type": "execute_result"
    }
   ],
   "source": [
    "fact_boll.isnull().sum()"
   ]
  },
  {
   "cell_type": "code",
   "execution_count": 164,
   "id": "b6bc2899-10e7-4f15-86a0-15124975c1ff",
   "metadata": {},
   "outputs": [],
   "source": [
    "df = pd.merge(dim_match, fact_boll, on='match_id')"
   ]
  },
  {
   "cell_type": "code",
   "execution_count": 166,
   "id": "537ad35c-0b7c-4479-8892-5a09af8a3226",
   "metadata": {},
   "outputs": [],
   "source": [
    "df = pd.merge(df, fact_bat, on='match_id')"
   ]
  },
  {
   "cell_type": "code",
   "execution_count": 168,
   "id": "e2b9e779-f49a-4fe2-a600-a68c9cfe5f8c",
   "metadata": {
    "scrolled": true
   },
   "outputs": [
    {
     "data": {
      "text/html": [
       "<div>\n",
       "<style scoped>\n",
       "    .dataframe tbody tr th:only-of-type {\n",
       "        vertical-align: middle;\n",
       "    }\n",
       "\n",
       "    .dataframe tbody tr th {\n",
       "        vertical-align: top;\n",
       "    }\n",
       "\n",
       "    .dataframe thead th {\n",
       "        text-align: right;\n",
       "    }\n",
       "</style>\n",
       "<table border=\"1\" class=\"dataframe\">\n",
       "  <thead>\n",
       "    <tr style=\"text-align: right;\">\n",
       "      <th></th>\n",
       "      <th>team1</th>\n",
       "      <th>team2</th>\n",
       "      <th>winner</th>\n",
       "      <th>margin</th>\n",
       "      <th>matchDate</th>\n",
       "      <th>match_id_x</th>\n",
       "      <th>match_x</th>\n",
       "      <th>bowlingTeam</th>\n",
       "      <th>bowlerName</th>\n",
       "      <th>overs</th>\n",
       "      <th>...</th>\n",
       "      <th>match_id_y</th>\n",
       "      <th>match</th>\n",
       "      <th>teamInnings_y</th>\n",
       "      <th>battingPos_y</th>\n",
       "      <th>out/not_out_y</th>\n",
       "      <th>runs</th>\n",
       "      <th>balls_y</th>\n",
       "      <th>4s</th>\n",
       "      <th>6s</th>\n",
       "      <th>SR_y</th>\n",
       "    </tr>\n",
       "  </thead>\n",
       "  <tbody>\n",
       "    <tr>\n",
       "      <th>0</th>\n",
       "      <td>Super Kings</td>\n",
       "      <td>KKR</td>\n",
       "      <td>Super Kings</td>\n",
       "      <td>27 runs</td>\n",
       "      <td>Oct 15, 2021</td>\n",
       "      <td>T203817</td>\n",
       "      <td>Super Kings Vs KKR</td>\n",
       "      <td>KKR</td>\n",
       "      <td>ShakibAlHasan</td>\n",
       "      <td>3.0</td>\n",
       "      <td>...</td>\n",
       "      <td>T203817</td>\n",
       "      <td>Super Kings Vs KKR</td>\n",
       "      <td>Super Kings</td>\n",
       "      <td>1</td>\n",
       "      <td>out</td>\n",
       "      <td>32</td>\n",
       "      <td>27</td>\n",
       "      <td>3</td>\n",
       "      <td>1</td>\n",
       "      <td>118.51</td>\n",
       "    </tr>\n",
       "    <tr>\n",
       "      <th>1</th>\n",
       "      <td>Super Kings</td>\n",
       "      <td>KKR</td>\n",
       "      <td>Super Kings</td>\n",
       "      <td>27 runs</td>\n",
       "      <td>Oct 15, 2021</td>\n",
       "      <td>T203817</td>\n",
       "      <td>Super Kings Vs KKR</td>\n",
       "      <td>KKR</td>\n",
       "      <td>ShakibAlHasan</td>\n",
       "      <td>3.0</td>\n",
       "      <td>...</td>\n",
       "      <td>T201819</td>\n",
       "      <td>Capitals Vs Super Kings</td>\n",
       "      <td>Super Kings</td>\n",
       "      <td>1</td>\n",
       "      <td>out</td>\n",
       "      <td>70</td>\n",
       "      <td>50</td>\n",
       "      <td>5</td>\n",
       "      <td>2</td>\n",
       "      <td>140.00</td>\n",
       "    </tr>\n",
       "    <tr>\n",
       "      <th>2</th>\n",
       "      <td>Super Kings</td>\n",
       "      <td>KKR</td>\n",
       "      <td>Super Kings</td>\n",
       "      <td>27 runs</td>\n",
       "      <td>Oct 15, 2021</td>\n",
       "      <td>T203817</td>\n",
       "      <td>Super Kings Vs KKR</td>\n",
       "      <td>KKR</td>\n",
       "      <td>ShakibAlHasan</td>\n",
       "      <td>3.0</td>\n",
       "      <td>...</td>\n",
       "      <td>T201866</td>\n",
       "      <td>Super Kings Vs Punjab Kings</td>\n",
       "      <td>Super Kings</td>\n",
       "      <td>1</td>\n",
       "      <td>out</td>\n",
       "      <td>12</td>\n",
       "      <td>14</td>\n",
       "      <td>1</td>\n",
       "      <td>0</td>\n",
       "      <td>85.71</td>\n",
       "    </tr>\n",
       "    <tr>\n",
       "      <th>3</th>\n",
       "      <td>Super Kings</td>\n",
       "      <td>KKR</td>\n",
       "      <td>Super Kings</td>\n",
       "      <td>27 runs</td>\n",
       "      <td>Oct 15, 2021</td>\n",
       "      <td>T203817</td>\n",
       "      <td>Super Kings Vs KKR</td>\n",
       "      <td>KKR</td>\n",
       "      <td>ShakibAlHasan</td>\n",
       "      <td>3.0</td>\n",
       "      <td>...</td>\n",
       "      <td>T207682</td>\n",
       "      <td>Super Kings Vs Capitals</td>\n",
       "      <td>Super Kings</td>\n",
       "      <td>1</td>\n",
       "      <td>out</td>\n",
       "      <td>13</td>\n",
       "      <td>13</td>\n",
       "      <td>2</td>\n",
       "      <td>0</td>\n",
       "      <td>100.00</td>\n",
       "    </tr>\n",
       "    <tr>\n",
       "      <th>4</th>\n",
       "      <td>Super Kings</td>\n",
       "      <td>KKR</td>\n",
       "      <td>Super Kings</td>\n",
       "      <td>27 runs</td>\n",
       "      <td>Oct 15, 2021</td>\n",
       "      <td>T203817</td>\n",
       "      <td>Super Kings Vs KKR</td>\n",
       "      <td>KKR</td>\n",
       "      <td>ShakibAlHasan</td>\n",
       "      <td>3.0</td>\n",
       "      <td>...</td>\n",
       "      <td>T205672</td>\n",
       "      <td>Super Kings Vs Royals</td>\n",
       "      <td>Super Kings</td>\n",
       "      <td>1</td>\n",
       "      <td>not_out</td>\n",
       "      <td>101</td>\n",
       "      <td>60</td>\n",
       "      <td>9</td>\n",
       "      <td>5</td>\n",
       "      <td>168.33</td>\n",
       "    </tr>\n",
       "  </tbody>\n",
       "</table>\n",
       "<p>5 rows × 39 columns</p>\n",
       "</div>"
      ],
      "text/plain": [
       "         team1 team2       winner   margin     matchDate match_id_x  \\\n",
       "0  Super Kings   KKR  Super Kings  27 runs  Oct 15, 2021    T203817   \n",
       "1  Super Kings   KKR  Super Kings  27 runs  Oct 15, 2021    T203817   \n",
       "2  Super Kings   KKR  Super Kings  27 runs  Oct 15, 2021    T203817   \n",
       "3  Super Kings   KKR  Super Kings  27 runs  Oct 15, 2021    T203817   \n",
       "4  Super Kings   KKR  Super Kings  27 runs  Oct 15, 2021    T203817   \n",
       "\n",
       "              match_x bowlingTeam     bowlerName  overs  ...  match_id_y  \\\n",
       "0  Super Kings Vs KKR         KKR  ShakibAlHasan    3.0  ...     T203817   \n",
       "1  Super Kings Vs KKR         KKR  ShakibAlHasan    3.0  ...     T201819   \n",
       "2  Super Kings Vs KKR         KKR  ShakibAlHasan    3.0  ...     T201866   \n",
       "3  Super Kings Vs KKR         KKR  ShakibAlHasan    3.0  ...     T207682   \n",
       "4  Super Kings Vs KKR         KKR  ShakibAlHasan    3.0  ...     T205672   \n",
       "\n",
       "                         match  teamInnings_y  battingPos_y  out/not_out_y  \\\n",
       "0           Super Kings Vs KKR    Super Kings             1            out   \n",
       "1      Capitals Vs Super Kings    Super Kings             1            out   \n",
       "2  Super Kings Vs Punjab Kings    Super Kings             1            out   \n",
       "3      Super Kings Vs Capitals    Super Kings             1            out   \n",
       "4        Super Kings Vs Royals    Super Kings             1        not_out   \n",
       "\n",
       "   runs  balls_y  4s  6s    SR_y  \n",
       "0    32       27   3   1  118.51  \n",
       "1    70       50   5   2  140.00  \n",
       "2    12       14   1   0   85.71  \n",
       "3    13       13   2   0  100.00  \n",
       "4   101       60   9   5  168.33  \n",
       "\n",
       "[5 rows x 39 columns]"
      ]
     },
     "execution_count": 168,
     "metadata": {},
     "output_type": "execute_result"
    }
   ],
   "source": [
    "main_df = pd.merge(df, fact_bat, on='batsmanName')\n",
    "main_df.head()"
   ]
  },
  {
   "cell_type": "code",
   "execution_count": 170,
   "id": "ad7bf659-287f-47ac-ae8c-761c5475e367",
   "metadata": {},
   "outputs": [
    {
     "data": {
      "text/plain": [
       "Index(['team1', 'team2', 'winner', 'margin', 'matchDate', 'match_id_x',\n",
       "       'match_x', 'bowlingTeam', 'bowlerName', 'overs', 'maiden', 'runs_x',\n",
       "       'wickets', 'economy', '0s', '4s_x', '6s_x', 'wides', 'noBalls',\n",
       "       'match_y', 'teamInnings_x', 'battingPos_x', 'batsmanName',\n",
       "       'out/not_out_x', 'runs_y', 'balls_x', '4s_y', '6s_y', 'SR_x',\n",
       "       'match_id_y', 'match', 'teamInnings_y', 'battingPos_y', 'out/not_out_y',\n",
       "       'runs', 'balls_y', '4s', '6s', 'SR_y'],\n",
       "      dtype='object')"
      ]
     },
     "execution_count": 170,
     "metadata": {},
     "output_type": "execute_result"
    }
   ],
   "source": [
    "main_df.columns"
   ]
  },
  {
   "cell_type": "code",
   "execution_count": 178,
   "id": "d71d52b5-c12a-4942-8306-f157e1027da1",
   "metadata": {},
   "outputs": [
    {
     "data": {
      "text/plain": [
       "((206, 6), (292, 5))"
      ]
     },
     "execution_count": 178,
     "metadata": {},
     "output_type": "execute_result"
    }
   ],
   "source": [
    "dim_match.shape, dim_players.shape"
   ]
  },
  {
   "cell_type": "code",
   "execution_count": 186,
   "id": "96c3a11e-61da-4c6d-bac2-bff42e14a4b4",
   "metadata": {},
   "outputs": [
    {
     "data": {
      "text/plain": [
       "((3268, 11), (2436, 14))"
      ]
     },
     "execution_count": 186,
     "metadata": {},
     "output_type": "execute_result"
    }
   ],
   "source": [
    "fact_bat.shape, fact_boll.shape"
   ]
  },
  {
   "cell_type": "code",
   "execution_count": 211,
   "id": "f7181613-2cb0-4027-b0ca-a2ae109d2965",
   "metadata": {},
   "outputs": [
    {
     "data": {
      "text/plain": [
       "Index(['batsmanName', 'team', 'battingStyle', 'bowlingStyle', 'playingRole'], dtype='object')"
      ]
     },
     "execution_count": 211,
     "metadata": {},
     "output_type": "execute_result"
    }
   ],
   "source": [
    "dim_players.columns"
   ]
  },
  {
   "cell_type": "code",
   "execution_count": 203,
   "id": "0559a8a1-5894-4c38-bdce-58d431f66a46",
   "metadata": {},
   "outputs": [
    {
     "data": {
      "text/plain": [
       "Index(['match_id', 'match', 'teamInnings', 'battingPos', 'batsmanName',\n",
       "       'out/not_out', 'runs', 'balls', '4s', '6s', 'SR'],\n",
       "      dtype='object')"
      ]
     },
     "execution_count": 203,
     "metadata": {},
     "output_type": "execute_result"
    }
   ],
   "source": [
    "fact_bat.columns"
   ]
  },
  {
   "cell_type": "code",
   "execution_count": 227,
   "id": "4ade0644-4c54-4b94-81dd-9c089c45c00f",
   "metadata": {},
   "outputs": [],
   "source": [
    "df = dim_match.merge(fact_boll, on='match_id').merge(fact_bat, on='match_id').merge(dim_players,  on='batsmanName')"
   ]
  },
  {
   "cell_type": "code",
   "execution_count": 231,
   "id": "ced700a2-13af-415d-9f0c-46c3aad1a232",
   "metadata": {},
   "outputs": [],
   "source": [
    "df = df[['team1', 'team2', 'winner', 'margin', 'matchDate', 'match_id',\n",
    "        'match_x', 'bowlingTeam', 'bowlerName', 'overs', 'maiden', 'runs_x',\n",
    "        'wickets', 'economy', '0s', '4s_x', '6s_x', 'wides', 'noBalls', \n",
    "        'teamInnings', 'battingPos', 'batsmanName', 'out/not_out',\n",
    "        'balls', 'SR', 'team', 'battingStyle','bowlingStyle', 'playingRole']]"
   ]
  },
  {
   "cell_type": "code",
   "execution_count": 239,
   "id": "4715bf11-b234-4b99-a25e-625b0c563345",
   "metadata": {},
   "outputs": [],
   "source": [
    "df.rename(columns={\"match_x\": \"match\", \"4s_x\": \"4s\", \"6s_x\": \"6s\", \"runs_x\": \"runs\"}, inplace=True)"
   ]
  },
  {
   "cell_type": "code",
   "execution_count": null,
   "id": "b7a0b227-141e-4eb5-ab7c-ed64ccc19d2a",
   "metadata": {},
   "outputs": [],
   "source": []
  },
  {
   "cell_type": "code",
   "execution_count": null,
   "id": "097937f9-c15a-448b-829a-6a9e7797eed5",
   "metadata": {},
   "outputs": [],
   "source": []
  },
  {
   "cell_type": "code",
   "execution_count": null,
   "id": "e17114cf-859e-46e3-b0ba-e5e16d3d0341",
   "metadata": {},
   "outputs": [],
   "source": []
  },
  {
   "cell_type": "code",
   "execution_count": 241,
   "id": "6eca9245-b3cf-4551-96c4-604329c81472",
   "metadata": {},
   "outputs": [
    {
     "data": {
      "text/plain": [
       "team1           0\n",
       "team2           0\n",
       "winner          0\n",
       "margin          0\n",
       "matchDate       0\n",
       "match_id        0\n",
       "match           0\n",
       "bowlingTeam     0\n",
       "bowlerName      0\n",
       "overs           0\n",
       "maiden          0\n",
       "runs            0\n",
       "wickets         0\n",
       "economy         0\n",
       "0s              0\n",
       "4s              0\n",
       "6s              0\n",
       "wides           0\n",
       "noBalls         0\n",
       "teamInnings     0\n",
       "battingPos      0\n",
       "batsmanName     0\n",
       "out/not_out     0\n",
       "balls           0\n",
       "SR              0\n",
       "team            0\n",
       "battingStyle    0\n",
       "bowlingStyle    0\n",
       "playingRole     0\n",
       "dtype: int64"
      ]
     },
     "execution_count": 241,
     "metadata": {},
     "output_type": "execute_result"
    }
   ],
   "source": [
    "df.isnull().sum()"
   ]
  },
  {
   "cell_type": "code",
   "execution_count": 243,
   "id": "992a4453-9099-47fb-a040-1af03bb3bf1c",
   "metadata": {},
   "outputs": [],
   "source": [
    "df.to_csv(\"ipl_main.csv\", index=False)"
   ]
  },
  {
   "cell_type": "code",
   "execution_count": null,
   "id": "9d5ff37f-2826-4a2c-919a-1f1c405fb67e",
   "metadata": {},
   "outputs": [],
   "source": []
  }
 ],
 "metadata": {
  "kernelspec": {
   "display_name": "Python 3 (ipykernel)",
   "language": "python",
   "name": "python3"
  },
  "language_info": {
   "codemirror_mode": {
    "name": "ipython",
    "version": 3
   },
   "file_extension": ".py",
   "mimetype": "text/x-python",
   "name": "python",
   "nbconvert_exporter": "python",
   "pygments_lexer": "ipython3",
   "version": "3.11.5"
  }
 },
 "nbformat": 4,
 "nbformat_minor": 5
}
